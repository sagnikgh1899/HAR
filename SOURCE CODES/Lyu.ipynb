{
  "nbformat": 4,
  "nbformat_minor": 0,
  "metadata": {
    "colab": {
      "name": "HAR-Lyu",
      "provenance": [],
      "collapsed_sections": []
    },
    "kernelspec": {
      "name": "python3",
      "display_name": "Python 3"
    },
    "accelerator": "GPU"
  },
  "cells": [
    {
      "cell_type": "code",
      "metadata": {
        "id": "9Kc2ma8iJLj9"
      },
      "source": [
        "!pip install scikit-learn\n",
        "!pip install numpy==1.16.1"
      ],
      "execution_count": null,
      "outputs": []
    },
    {
      "cell_type": "code",
      "metadata": {
        "id": "bwsZzbXjktB_"
      },
      "source": [
        "import numpy as np;\n",
        "import random;\n",
        "from sklearn.ensemble import RandomForestClassifier, VotingClassifier;\n",
        "from sklearn.metrics.classification import accuracy_score, recall_score, f1_score;\n",
        "import scipy.stats as st;\n",
        "from scipy.stats import gmean;\n",
        "import tensorflow as tf"
      ],
      "execution_count": null,
      "outputs": []
    },
    {
      "cell_type": "code",
      "metadata": {
        "id": "s0XJJC1s71aw"
      },
      "source": [
        "from google.colab import drive\n",
        "drive.mount('/content/drive')"
      ],
      "execution_count": null,
      "outputs": []
    },
    {
      "cell_type": "code",
      "metadata": {
        "id": "kgHaSTG2RPp_"
      },
      "source": [
        "np.random.seed(12227)"
      ],
      "execution_count": null,
      "outputs": []
    },
    {
      "cell_type": "code",
      "metadata": {
        "id": "TeAhRKO3VlV0"
      },
      "source": [
        "def DataPreparation(data_input_file):\n",
        "  print('Lingjuan Lyu  et al. 2017 {}'.format(data_input_file))\n",
        "  data = np.load(data_input_file)\n",
        "  X = data['X']\n",
        "  X = X[:, 0, :, :]\n",
        "  \n",
        "  Y = data['y']\n",
        "  folds = data['folds']\n",
        " \n",
        "  return X,Y,folds"
      ],
      "execution_count": null,
      "outputs": []
    },
    {
      "cell_type": "code",
      "metadata": {
        "id": "nG9MTOKo5Jcs"
      },
      "source": [
        "def RunLingjuan_Lyu(data_input_file):\n",
        "  X,Y,folds= DataPreparation(data_input_file)\n",
        "  avg_acc, avg_recall,avg_f1= Train(X,Y,folds)\n",
        "  ReportAccuracies(avg_acc, avg_recall,avg_f1)"
      ],
      "execution_count": null,
      "outputs": []
    },
    {
      "cell_type": "code",
      "metadata": {
        "id": "Ou0TopaBZprd"
      },
      "source": [
        "def ReportAccuracies(avg_acc, avg_recall,avg_f1):\n",
        "  ic_acc = st.t.interval(0.9, len(avg_acc) - 1, loc=np.mean(avg_acc), scale=st.sem(avg_acc))\n",
        "  ic_recall = st.t.interval(0.9, len(avg_recall) - 1, loc=np.mean(avg_recall), scale=st.sem(avg_recall))\n",
        "  ic_f1 = st.t.interval(0.9, len(avg_f1) - 1, loc=np.mean(avg_f1), scale=st.sem(avg_f1))\n",
        "  print('Mean Accuracy[{:.4f}] G-mean_acc[{:.4f}] IC [{:.4f}, {:.4f}]'.format(np.mean(avg_acc), gmean(avg_acc), ic_acc[0], ic_acc[1]))\n",
        "  print('Mean Recall[{:.4f}] IC [{:.4f}, {:.4f}]'.format(np.mean(avg_recall), ic_recall[0], ic_recall[1]))\n",
        "  print('Mean F1[{:.4f}] IC [{:.4f}, {:.4f}]'.format(np.mean(avg_f1), ic_f1[0], ic_f1[1]))"
      ],
      "execution_count": null,
      "outputs": []
    },
    {
      "cell_type": "code",
      "metadata": {
        "id": "yDGCA4dbbMd0"
      },
      "source": [
        "def build_model(row,col,num_classes):\n",
        "\n",
        "  tf.keras.initializers.GlorotNormal(234)\n",
        "  input_layer = tf.keras.Input(shape=(row,col,1,))\n",
        "  \n",
        "  layer = tf.keras.layers.TimeDistributed(tf.keras.layers.Flatten())(input_layer)\n",
        "  layer = tf.keras.layers.LSTM(28,return_sequences=True)(layer)\n",
        "  layer = tf.keras.layers.Dropout(0.2)(layer)\n",
        "  layer = tf.keras.layers.LSTM(28,return_sequences=True)(layer)\n",
        "  layer = tf.keras.layers.Dropout(0.2)(layer)\n",
        "  layerconv1 = tf.keras.layers.Conv1D(filters=30,kernel_size=5,  strides=1) (layer)\n",
        "  layerconv1 = tf.keras.layers.Activation('relu')(layerconv1)\n",
        "  layerconv2 = tf.keras.layers.Conv1D(filters=40,kernel_size= 10,strides=1) (layer)\n",
        "  layerconv2 = tf.keras.layers.Activation('relu')(layerconv2)\n",
        "  layerconv3 = tf.keras.layers.Conv1D(filters=50,kernel_size= 15,strides=1) (layer)\n",
        "  layerconv3 = tf.keras.layers.Activation('relu')(layerconv3)\n",
        "  layerconv4 = tf.keras.layers.Conv1D(filters=60,kernel_size= 20,strides=1) (layer)\n",
        "  layerconv4 = tf.keras.layers.Activation('relu')(layerconv4)\n",
        "  max1= tf.reduce_max(layerconv1, 1)\n",
        "  max2= tf.reduce_max(layerconv2, 1)\n",
        "  max3= tf.reduce_max(layerconv3, 1)\n",
        "  max4= tf.reduce_max(layerconv4, 1)\n",
        "  concat_layer = tf.keras.layers.concatenate([max1,max2,max3,max4],1)\n",
        "  layer= tf.keras.layers.Dense(num_classes, activation = 'softmax')   (concat_layer) \n",
        "\n",
        "    \n",
        " \n",
        "  \n",
        "    \n",
        "  model = tf.keras.Model(inputs=input_layer, outputs=layer)\n",
        "  model.summary()\n",
        "  return model"
      ],
      "execution_count": null,
      "outputs": []
    },
    {
      "cell_type": "code",
      "metadata": {
        "id": "MEZ2wmpIbUjb"
      },
      "source": [
        "batch_size = 128\n",
        "epochs = 100\n",
        "\n",
        "learning_rate = 0.001"
      ],
      "execution_count": null,
      "outputs": []
    },
    {
      "cell_type": "code",
      "metadata": {
        "id": "b9rkRFdAbbJ7"
      },
      "source": [
        "def Train(X,y,folds):\n",
        "  avg_acc = []\n",
        "  avg_recall = []\n",
        "  avg_f1 = []\n",
        "  n_class = y.shape[1]\n",
        "  _, img_rows, img_cols = X.shape\n",
        "  X=X.reshape(X.shape[0],img_rows,img_cols,1)\n",
        "  _,img_rows, img_cols,_ = X.shape\n",
        "  for i in range(0, len(folds)):\n",
        "    train_idx = folds[i][0]\n",
        "    test_idx = folds[i][1]\n",
        "    X_train = X[train_idx]\n",
        "    X_test = X[test_idx]\n",
        "    \n",
        "    model=build_model(img_rows, img_cols, n_class)\n",
        "    optimizer = tf.keras.optimizers.Adam(lr=learning_rate)\n",
        "   \n",
        "\n",
        "    model.compile(loss=\"categorical_crossentropy\", optimizer=optimizer,  metrics=['accuracy'])\n",
        "   \n",
        "    \n",
        "    model.fit(X_train, y[train_idx], batch_size=batch_size,epochs=epochs,verbose=2)\n",
        "    y_pred = model.predict(X_test)\n",
        "    y_pred = np.argmax(y_pred, axis=1)\n",
        "    y_true = np.argmax(y[test_idx], axis=1)\n",
        "    acc_fold = accuracy_score(y_true, y_pred)\n",
        "    avg_acc.append(acc_fold)\n",
        "    recall_fold = recall_score(y_true, y_pred, average='macro')\n",
        "    avg_recall.append(recall_fold)\n",
        "    f1_fold = f1_score(y_true, y_pred, average='macro')\n",
        "    avg_f1.append(f1_fold)\n",
        "    print('Accuracy[{:.4f}] Recall[{:.4f}] F1[{:.4f}] at fold[{}]'.format(acc_fold, recall_fold, f1_fold ,i+1))\n",
        "    print('________________________________________________________________')\n",
        "    \n",
        "  return avg_acc, avg_recall,avg_f1"
      ],
      "execution_count": null,
      "outputs": []
    },
    {
      "cell_type": "code",
      "metadata": {
        "id": "Tu6pWPj4uWnI"
      },
      "source": [
        "tf.keras.backend.set_image_data_format('channels_last')"
      ],
      "execution_count": null,
      "outputs": []
    }
  ]
}