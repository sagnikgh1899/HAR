{
  "nbformat": 4,
  "nbformat_minor": 0,
  "metadata": {
    "colab": {
      "name": "JGH Test.ipynb",
      "provenance": []
    },
    "kernelspec": {
      "name": "python3",
      "display_name": "Python 3"
    },
    "language_info": {
      "name": "python"
    },
    "accelerator": "GPU"
  },
  "cells": [
    {
      "cell_type": "code",
      "metadata": {
        "id": "nzt34qw73lkK"
      },
      "source": [
        "!nvidia-smi -L"
      ],
      "execution_count": null,
      "outputs": []
    },
    {
      "cell_type": "code",
      "metadata": {
        "id": "eO2R7f0w3nY6"
      },
      "source": [
        "## Libraries Prequisities\n",
        "!pip install scikit-learn\n",
        "!pip install numpy==1.16.1"
      ],
      "execution_count": null,
      "outputs": []
    },
    {
      "cell_type": "code",
      "metadata": {
        "id": "DDft1D_g3ndf"
      },
      "source": [
        "from google.colab import drive\n",
        "drive.mount('/content/drive')"
      ],
      "execution_count": null,
      "outputs": []
    },
    {
      "cell_type": "code",
      "metadata": {
        "id": "Zoz9anSG3eKf"
      },
      "source": [
        "import numpy as np\n",
        "import random\n",
        "from sklearn.ensemble import RandomForestClassifier, VotingClassifier\n",
        "from sklearn.metrics.classification import accuracy_score, recall_score, f1_score\n",
        "import scipy.stats as st\n",
        "\n",
        "# Commented out IPython magic to ensure Python compatibility.\n",
        "# %tensorflow_version 2.x\n",
        "import tensorflow as tf\n",
        "print(tf.__version__)\n",
        "print(tf.test.gpu_device_name())\n",
        "print(\"Num GPUs Available: \", len(tf.config.experimental.list_physical_devices('GPU')))\n",
        "\n",
        "\n",
        "def DataPreparation(data_input_file):\n",
        "  data = np.load(data_input_file, allow_pickle=True)\n",
        "  X = data['X']\n",
        "  X = X[:, 0, :, :]\n",
        "  Y = data['y']\n",
        "  folds = data['folds']\n",
        " \n",
        "  return X,Y,folds\n",
        "\n",
        "def OpportunityDataSetPreparation():\n",
        "  X_train=np.load('/content/drive/MyDrive/Opportunity/Opportunity_train_X.npz')['arr_0']\n",
        "  X_test=np.load('/content/drive/MyDrive/Opportunity/Opportunity_test_X.npz')['arr_0']\n",
        "  Y_train=np.load('/content/drive/MyDrive/Opportunity/Opportunity_train_y.npz')['arr_0']\n",
        "  Y_test=np.load('/content/drive/MyDrive/Opportunity/Opportunity_test_Y.npz')['arr_0']\n",
        "  X = np.concatenate((X_train, X_test), axis = 0)\n",
        "  Y = np.concatenate((Y_train, Y_test), axis = 0)\n",
        "  classes_number = Y_train.shape[1]\n",
        "  #Y_train = np.argmax(Y_train, axis=1)\n",
        "  #Y_test = np.argmax(Y_test, axis=1)\n",
        "  return X, Y, X_train,Y_train,X_test,Y_test,classes_number\n",
        "\n",
        "def ReportAccuracies(avg_acc, avg_recall,avg_f1):\n",
        "  ic_acc = st.t.interval(0.9, len(avg_acc) - 1, loc=np.mean(avg_acc), scale=st.sem(avg_acc))\n",
        "  ic_recall = st.t.interval(0.9, len(avg_recall) - 1, loc=np.mean(avg_recall), scale=st.sem(avg_recall))\n",
        "  ic_f1 = st.t.interval(0.9, len(avg_f1) - 1, loc=np.mean(avg_f1), scale=st.sem(avg_f1))\n",
        "  print('Mean Accuracy[{:.4f}] IC [{:.4f}, {:.4f}]'.format(np.mean(avg_acc), ic_acc[0], ic_acc[1]))\n",
        "  print('Mean Recall[{:.4f}] IC [{:.4f}, {:.4f}]'.format(np.mean(avg_recall), ic_recall[0], ic_recall[1]))\n",
        "  print('Mean F1[{:.4f}] IC [{:.4f}, {:.4f}]'.format(np.mean(avg_f1), ic_f1[0], ic_f1[1]))\n",
        "\n",
        "def Run_JGH(data_input_file):\n",
        "  X,Y,folds,= DataPreparation(data_input_file)\n",
        "  avg_acc, avg_recall,avg_f1= Train(X,Y,folds)\n",
        "  ReportAccuracies(avg_acc, avg_recall,avg_f1 )\n",
        "\n",
        "\n",
        "def Run_JGH_Opportunity():\n",
        "  X, Y, X_Train, Y_Train, X_Test, Y_Test, n_classes = OpportunityDataSetPreparation()\n",
        "  Train_Opportunity(X, Y, X_Train, Y_Train, X_Test, Y_Test, n_classes)\n",
        "\n",
        "def JGH_model(row,col,num_classes):\n",
        "  layers = [\n",
        "      tf.keras.layers.TimeDistributed(tf.keras.layers.Flatten()),\n",
        "      tf.keras.layers.LSTM(32,return_sequences=True,  input_shape=(row, col)),  \n",
        "      tf.keras.layers.LSTM(32,return_sequences=True),                           \n",
        "      tf.keras.layers.Dropout(0.5),\n",
        "      tf.keras.layers.Conv1D(filters=64,kernel_size=5,strides=2,activation='relu'),\n",
        "      tf.keras.layers.MaxPool1D(pool_size=2,strides = 2),\n",
        "      tf.keras.layers.Conv1D(filters=128,kernel_size=3,strides=2,activation='relu'),\n",
        "      tf.keras.layers.GlobalAveragePooling1D(),        \n",
        "      tf.keras.layers.BatchNormalization(),     \n",
        "      tf.keras.layers.Dense(num_classes, activation = 'softmax')\n",
        "       ]\n",
        "      \n",
        "  model = tf.keras.Sequential(layers)\n",
        "  return model\n",
        "\n",
        "\n",
        "batch_size = 192\n",
        "epochs = 250\n",
        "learning_rate = 0.001\n",
        "\n",
        "\n",
        "\n",
        "def Train(X,y,folds):\n",
        "  avg_acc = []\n",
        "  avg_recall = []\n",
        "  avg_f1 = []\n",
        "  n_class = y.shape[1]\n",
        "  _,img_rows, img_cols = X.shape\n",
        "  for i in range(0, len(folds)):\n",
        "    train_idx = folds[i][0]\n",
        "    test_idx = folds[i][1]\n",
        "    X_train = X[train_idx]\n",
        "    X_test = X[test_idx]\n",
        "    model=JGH_model(img_rows,img_cols,n_class)\n",
        "    model.compile(loss='categorical_crossentropy', metrics=['accuracy'], optimizer='SGD')\n",
        "    model.fit(X_train, y[train_idx], batch_size=batch_size, epochs=epochs, verbose=2)\n",
        "    y_pred = model.predict(X_test)\n",
        "    y_pred = np.argmax(y_pred, axis=1)\n",
        "    y_true = np.argmax(y[test_idx], axis=1)\n",
        "    acc_fold = accuracy_score(y_true, y_pred)\n",
        "    avg_acc.append(acc_fold)\n",
        "    recall_fold = recall_score(y_true, y_pred, average='macro')\n",
        "    avg_recall.append(recall_fold)\n",
        "    f1_fold = f1_score(y_true, y_pred, average='macro')\n",
        "    avg_f1.append(f1_fold)\n",
        "    print('Accuracy[{:.4f}] Recall[{:.4f}] F1[{:.4f}] at fold[{}]'.format(acc_fold, recall_fold, f1_fold ,i+1))\n",
        "    print('________________________________________________________________')\n",
        "    \n",
        "  return avg_acc, avg_recall,avg_f1\n",
        "\n",
        "\n",
        "def Train_Opportunity(X, Y, X_Train, Y_Train, X_Test, Y_Test, n_class):\n",
        "  n_class = Y.shape[1]\n",
        "  _, img_rows, img_cols = X.shape\n",
        "  X=X.reshape(X.shape[0],img_rows,img_cols,1)\n",
        "  _,img_rows, img_cols,_ = X.shape\n",
        "    \n",
        "  model=JGH_model(img_rows, img_cols, n_class)\n",
        "  optimizer=tf.keras.optimizers.Adam(lr=learning_rate)\n",
        "  model.compile(loss=\"categorical_crossentropy\", optimizer=optimizer,  metrics=['accuracy'])\n",
        "  model.fit(X_Train, Y_Train, batch_size=batch_size,epochs=epochs,verbose=2)\n",
        "  Y_Pred = model.predict(X_Test)\n",
        "  Y_Pred = np.argmax(Y_Pred, axis=1)\n",
        "  Y_Test = np.argmax(Y_Test, axis=1)\n",
        "  acc_fold = accuracy_score(Y_Test, Y_Pred)\n",
        "  recall_fold = recall_score(Y_Test, Y_Pred, average='macro')\n",
        "  f1_fold = f1_score(Y_Test, Y_Pred, average='macro')\n",
        "  print(\"acc_fold\", acc_fold)\n",
        "  print(\"recall_fold\", recall_fold)\n",
        "  print(\"f1_fold\", f1_fold)\n",
        "  \n",
        "  # print('Accuracy[{:.4f}] Recall[{:.4f}] F1[{:.4f}] at fold[{}]'.format(acc_fold, recall_fold, f1_fold))\n",
        "  # print('________________________________________________________________')\n",
        "\n",
        "# tf.keras.backend.set_image_data_format('channels_first')\n",
        "\n",
        "\n",
        "\n",
        "\n",
        "# Run_JGH('/content/drive/My Drive/SNOW/USCHAD.npz')\n",
        "Run_JGH_Opportunity()\n"
      ],
      "execution_count": null,
      "outputs": []
    },
    {
      "cell_type": "code",
      "metadata": {
        "id": "1jYxjmoy4ceH"
      },
      "source": [
        ""
      ],
      "execution_count": null,
      "outputs": []
    }
  ]
}
